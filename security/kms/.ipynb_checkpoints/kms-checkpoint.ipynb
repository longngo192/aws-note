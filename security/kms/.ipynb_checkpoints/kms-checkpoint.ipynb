{
 "cells": [
  {
   "cell_type": "markdown",
   "metadata": {},
   "source": [
    "# Aws KMS\n",
    "## IS Key management service\n",
    "> Using for store , management, encrypt keys that using protect user data \n",
    "## AWS KMS key\n",
    "> Is logical representation for an encryption key, using for encrypt or decrypt data. Have metadata like Key ID, date create, date update, state...\n",
    "\n",
    "## Key material\n",
    "Create default by KMS, auto generate by HSMs (hard ware security module). Cant not edit, view, delete, export.\n",
    "User can manualy upload. Or auto generate from custom key store.\n",
    "\n",
    "![HSM](imgs/hsm.jpg \"Hardware security module\")\n",
    "\n",
    "## Data key\n",
    "Is key (is plain text or enctrypted by kms master key), using for encrypt, decrypt data.<span style=\"color:red\"> KMS not store this key. (services and user need to store for using pupose).</span>\n",
    "\n",
    "<span style=\"color:red\">When decrypt data you must asking kms to decrypt data key. </span>.\n",
    "\n",
    "## Data pair key\n",
    "\n",
    "## Symmetric Key\n",
    "An 256-bit key used for encryption and decryption.\n",
    "\n",
    "## Asymmetric Key\n",
    "## Multi-Region keys\n",
    "## Customer management Key\n",
    "## AWS Managed key\n",
    "## AWS owned key"
   ]
  },
  {
   "cell_type": "code",
   "execution_count": null,
   "metadata": {},
   "outputs": [],
   "source": []
  }
 ],
 "metadata": {
  "interpreter": {
   "hash": "de0f60b0387204acf77ea12e631149dbcf0f3ec6e1ae269e383a1ff087562ab0"
  },
  "kernelspec": {
   "display_name": "Python 3 (ipykernel)",
   "language": "python",
   "name": "python3"
  },
  "language_info": {
   "codemirror_mode": {
    "name": "ipython",
    "version": 3
   },
   "file_extension": ".py",
   "mimetype": "text/x-python",
   "name": "python",
   "nbconvert_exporter": "python",
   "pygments_lexer": "ipython3",
   "version": "3.10.0"
  }
 },
 "nbformat": 4,
 "nbformat_minor": 2
}
