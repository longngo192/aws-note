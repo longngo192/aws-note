{
 "cells": [
  {
   "cell_type": "markdown",
   "metadata": {},
   "source": [
    "# S3 data encryption (Transit protection)\n",
    "## Secure Socket Layer/Transport Layer Security (SSL/TLS)\n",
    "<img src=\"img\\tlsWork.jpg\">\n",
    "\n",
    "## TLS server setup\n",
    "\n",
    "* TLS server generate a pair keys (public key, secrect key)\n",
    "* TLS server send public key to Certificate authorities (CA) \n",
    "* CA return certificate to TLS, certificate included: \n",
    "    * The domain name that the certificate was issued for\n",
    "    * Which person, organization, or device it was issued to\n",
    "    * Which certificate authority issued it\n",
    "    * The certificate authority's digital signature\n",
    "    * Associated subdomains\n",
    "    * Issue date of the certificate\n",
    "    * Expiration date of the certificate\n",
    "    * The public key (the private key is kept secret)\n",
    "\n",
    "## TLS handshakes flow\n",
    "\n",
    "* User browser access to TLS server\n",
    "* TLS server send CA certificate to user browser\n",
    "* Browser local machine get encrypted sign and hash string from CA certificate\n",
    "* User's local machine using installed CA's public key (in os or browser) for decrypt digital sign\n",
    "    * Digital sign is simply CA certificate's hash value.\n",
    "* User's local machine calculate hash value of CA certificate\n",
    "* User's local machine compare decrypted digital sign and hash value of CA certificate. If it identical then user PC know that he communicating with real TLS server.\n",
    "* User's local machine send a \"premaster secrect\" (random string byte) which is include encrypted user generated publickey and secrect information\n",
    "* TLS server using secrect key to decrypt \"premaster secrect\" and user generated publickey and secrect information\n",
    "* Client and server calculate session keys from the premaster secret, client random, and server random\n",
    "* Client and server using session keys to communicate.\n"
   ]
  }
 ],
 "metadata": {
  "kernelspec": {
   "display_name": "Python 3 (ipykernel)",
   "language": "python",
   "name": "python3"
  },
  "language_info": {
   "codemirror_mode": {
    "name": "ipython",
    "version": 3
   },
   "file_extension": ".py",
   "mimetype": "text/x-python",
   "name": "python",
   "nbconvert_exporter": "python",
   "pygments_lexer": "ipython3",
   "version": "3.10.0"
  }
 },
 "nbformat": 4,
 "nbformat_minor": 2
}
