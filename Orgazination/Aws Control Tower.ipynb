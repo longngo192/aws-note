{
 "cells": [
  {
   "cell_type": "markdown",
   "metadata": {},
   "source": [
    "# Aws control tower\n",
    "## Definition\n",
    "* Automatic create and govenance OUS, your orgazination follow aws best practice\n",
    "* AWS control tower used for setting up enviromel and guardrails follow best practices (easiest way) when AWS organziation used for create custom SCP, tag, backup policies\n",
    "* Using when user want automatic builing ognazination follow aws built in best practices.\n",
    "\n",
    "* <span style=\"color: red\"> One of most cool feature is using guardrail to detection which account in which OU is not compiance the best practices desgin</span>\n",
    "\n",
    "## Concept\n",
    "### Guardrails\n",
    "Is aws created pre-packed scp policies follow rule of security, operations and compliance that customer easy to choose and apply for organzination.Execute in OU units. \n",
    "\n",
    "### Landing zone\n",
    "The landing zone is a well-architected, multi-account baseline that follows AWS best practices\n",
    "\n",
    "## Useage\n",
    "https://www.youtube.com/watch?v=CwRy0t8nfgM&ab_channel=AmazonWebServices "
   ]
  }
 ],
 "metadata": {
  "kernelspec": {
   "display_name": "Python 3 (ipykernel)",
   "language": "python",
   "name": "python3"
  },
  "language_info": {
   "codemirror_mode": {
    "name": "ipython",
    "version": 3
   },
   "file_extension": ".py",
   "mimetype": "text/x-python",
   "name": "python",
   "nbconvert_exporter": "python",
   "pygments_lexer": "ipython3",
   "version": "3.10.0"
  }
 },
 "nbformat": 4,
 "nbformat_minor": 2
}
