{
 "cells": [
  {
   "cell_type": "markdown",
   "metadata": {},
   "source": [
    "# Premise\n",
    "Using multiple AWS account is best practice for scaling your environment.\n",
    "* It provides a natural billing boundary for cost <span style=\"color: blue\">(billing for each account) </span>\n",
    "* isolates resources for security\n",
    "* gives flexibility or individuals and teams\n",
    "* being adaptable for new business processes\n",
    "\n",
    "# AWS Organization\n",
    "Is a collection of accounts and you can organize into hierarchy and manage centrally.\n",
    "\n",
    "## Manager Account\n",
    "\n",
    "* is the AWS account you use to create your organization\n"
   ]
  }
 ],
 "metadata": {
  "kernelspec": {
   "display_name": "Python 3 (ipykernel)",
   "language": "python",
   "name": "python3"
  },
  "language_info": {
   "codemirror_mode": {
    "name": "ipython",
    "version": 3
   },
   "file_extension": ".py",
   "mimetype": "text/x-python",
   "name": "python",
   "nbconvert_exporter": "python",
   "pygments_lexer": "ipython3",
   "version": "3.10.0"
  }
 },
 "nbformat": 4,
 "nbformat_minor": 2
}
